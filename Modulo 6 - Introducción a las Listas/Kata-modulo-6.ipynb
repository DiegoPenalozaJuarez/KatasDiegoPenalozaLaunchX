{
 "cells": [
  {
   "cell_type": "markdown",
   "metadata": {},
   "source": [
    "## Ejercicio1: Crear y usar listas de Python"
   ]
  },
  {
   "cell_type": "markdown",
   "metadata": {},
   "source": [
    "Crear lista planetas:"
   ]
  },
  {
   "cell_type": "code",
   "execution_count": 23,
   "metadata": {},
   "outputs": [
    {
     "data": {
      "text/plain": [
       "['Mercurio',\n",
       " 'Venus',\n",
       " 'Tierra',\n",
       " 'Marte',\n",
       " 'Jupiter',\n",
       " 'Saturno',\n",
       " 'Urano',\n",
       " 'Neptuno']"
      ]
     },
     "execution_count": 23,
     "metadata": {},
     "output_type": "execute_result"
    }
   ],
   "source": [
    "planetas = [\"Mercurio\",\"Venus\",\"Tierra\",\"Marte\",\"Jupiter\",\"Saturno\",\"Urano\",\"Neptuno\"]\n",
    "planetas"
   ]
  },
  {
   "cell_type": "markdown",
   "metadata": {},
   "source": [
    "Agregar Pluton a la lista y mostrar el numero de planetas y el ultimo elemento:"
   ]
  },
  {
   "cell_type": "code",
   "execution_count": 24,
   "metadata": {},
   "outputs": [
    {
     "data": {
      "text/plain": [
       "['Mercurio',\n",
       " 'Venus',\n",
       " 'Tierra',\n",
       " 'Marte',\n",
       " 'Jupiter',\n",
       " 'Saturno',\n",
       " 'Urano',\n",
       " 'Neptuno',\n",
       " 'Pluton']"
      ]
     },
     "execution_count": 24,
     "metadata": {},
     "output_type": "execute_result"
    }
   ],
   "source": [
    "planetas.append(\"Pluton\")\n",
    "planetas"
   ]
  },
  {
   "cell_type": "code",
   "execution_count": 25,
   "metadata": {},
   "outputs": [
    {
     "name": "stdout",
     "output_type": "stream",
     "text": [
      "Pluton es el ultimo planeta.\n"
     ]
    }
   ],
   "source": [
    "print(planetas[-1], \"es el ultimo planeta.\")"
   ]
  },
  {
   "cell_type": "markdown",
   "metadata": {},
   "source": [
    "## Ejercicio 2: Trabajando con datos de una lista"
   ]
  },
  {
   "cell_type": "markdown",
   "metadata": {},
   "source": [
    "Creando lista de planetas:"
   ]
  },
  {
   "cell_type": "code",
   "execution_count": 26,
   "metadata": {},
   "outputs": [
    {
     "data": {
      "text/plain": [
       "['Mercurio',\n",
       " 'Venus',\n",
       " 'Tierra',\n",
       " 'Marte',\n",
       " 'Jupiter',\n",
       " 'Saturno',\n",
       " 'Urano',\n",
       " 'Neptuno']"
      ]
     },
     "execution_count": 26,
     "metadata": {},
     "output_type": "execute_result"
    }
   ],
   "source": [
    "lista_planetas = [\"Mercurio\",\"Venus\",\"Tierra\",\"Marte\",\"Jupiter\",\"Saturno\",\"Urano\",\"Neptuno\"]\n",
    "lista_planetas"
   ]
  },
  {
   "cell_type": "markdown",
   "metadata": {},
   "source": [
    "Solicitando el nombre de un planeta:"
   ]
  },
  {
   "cell_type": "code",
   "execution_count": 27,
   "metadata": {},
   "outputs": [
    {
     "name": "stdout",
     "output_type": "stream",
     "text": [
      "Tierra\n"
     ]
    }
   ],
   "source": [
    "planeta = input(\"Ingresa alguno de los 6 planetas de nuestro sistema Solar ingresando la primera letra en Mayusculas: \")\n",
    "if planeta in lista_planetas:\n",
    "    print(planeta)\n",
    "else:\n",
    "    print(f'El planeta {planeta} no está en el sistema solar.')"
   ]
  },
  {
   "cell_type": "markdown",
   "metadata": {},
   "source": [
    "Buscamos la posicion en la lista del planeta ingresado por el usuario:"
   ]
  },
  {
   "cell_type": "code",
   "execution_count": 28,
   "metadata": {},
   "outputs": [
    {
     "data": {
      "text/plain": [
       "2"
      ]
     },
     "execution_count": 28,
     "metadata": {},
     "output_type": "execute_result"
    }
   ],
   "source": [
    "Buscar_planeta = lista_planetas.index(planeta)\n",
    "Buscar_planeta"
   ]
  },
  {
   "cell_type": "markdown",
   "metadata": {},
   "source": [
    "Mostras planetas mas cercanos al Sol tomando de referencia el planeta ingresado por el usuario:"
   ]
  },
  {
   "cell_type": "code",
   "execution_count": 33,
   "metadata": {},
   "outputs": [
    {
     "name": "stdout",
     "output_type": "stream",
     "text": [
      "Aqui estan los planetas que anteceden al planeta Tierra y que son mas cercanos al Sol:\n",
      "['Mercurio', 'Venus']\n"
     ]
    }
   ],
   "source": [
    "print('Aqui estan los planetas que anteceden al planeta ' + planeta + ' y que son mas cercanos al Sol:')\n",
    "print(lista_planetas[0:Buscar_planeta])"
   ]
  },
  {
   "cell_type": "markdown",
   "metadata": {},
   "source": [
    "Mostrar planetas mas lejanos al Sol tomando de referencia el planeta ingresado por el usuario:"
   ]
  },
  {
   "cell_type": "code",
   "execution_count": 34,
   "metadata": {},
   "outputs": [
    {
     "name": "stdout",
     "output_type": "stream",
     "text": [
      "Aqui estan los planetas que se encuentran despues del planeta Tierra y que son mas lejanos al Sol:\n",
      "['Marte', 'Jupiter', 'Saturno', 'Urano', 'Neptuno']\n"
     ]
    }
   ],
   "source": [
    "print('Aqui estan los planetas que se encuentran despues del planeta ' + planeta + ' y que son mas lejanos al Sol:')\n",
    "print(lista_planetas[Buscar_planeta+1:])"
   ]
  },
  {
   "cell_type": "markdown",
   "metadata": {},
   "source": [
    "Diego Peñaloza Juárez"
   ]
  }
 ],
 "metadata": {
  "interpreter": {
   "hash": "4958bce205b6b0f79ce39664f74134a805df1491c6fab3de6549ca90b5cb7595"
  },
  "kernelspec": {
   "display_name": "Python 3.10.2 64-bit",
   "language": "python",
   "name": "python3"
  },
  "language_info": {
   "codemirror_mode": {
    "name": "ipython",
    "version": 3
   },
   "file_extension": ".py",
   "mimetype": "text/x-python",
   "name": "python",
   "nbconvert_exporter": "python",
   "pygments_lexer": "ipython3",
   "version": "3.10.2"
  },
  "orig_nbformat": 4
 },
 "nbformat": 4,
 "nbformat_minor": 2
}
