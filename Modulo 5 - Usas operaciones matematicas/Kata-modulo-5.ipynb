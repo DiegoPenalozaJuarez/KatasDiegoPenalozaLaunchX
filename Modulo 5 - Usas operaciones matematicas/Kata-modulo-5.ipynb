{
 "cells": [
  {
   "cell_type": "markdown",
   "metadata": {},
   "source": [
    "## Ejercicio 1: Utilizar operadores matematicos"
   ]
  },
  {
   "cell_type": "markdown",
   "metadata": {},
   "source": [
    "Creando las variables de los dos planetas:"
   ]
  },
  {
   "cell_type": "code",
   "execution_count": 71,
   "metadata": {},
   "outputs": [],
   "source": [
    "Tierra = 149597870\n",
    "Jupiter = 778547200"
   ]
  },
  {
   "cell_type": "markdown",
   "metadata": {},
   "source": [
    "Calcular la distancia entre ambos planetas en Km y millas:"
   ]
  },
  {
   "cell_type": "code",
   "execution_count": 72,
   "metadata": {},
   "outputs": [
    {
     "name": "stdout",
     "output_type": "stream",
     "text": [
      "La distancia entre ambos planetas es de: 628949330 Kms.\n"
     ]
    }
   ],
   "source": [
    "Distancia = Jupiter - Tierra\n",
    "print(\"La distancia entre ambos planetas es de: \" + str(Distancia) + \" Kms.\")"
   ]
  },
  {
   "cell_type": "code",
   "execution_count": 73,
   "metadata": {},
   "outputs": [
    {
     "name": "stdout",
     "output_type": "stream",
     "text": [
      "La distancia entre ambos planetas es de: 390577533.93 millas.\n"
     ]
    }
   ],
   "source": [
    "Distancia = (Jupiter - Tierra)*0.621\n",
    "print(\"La distancia entre ambos planetas es de: \" + str(Distancia) + \" millas.\")"
   ]
  },
  {
   "cell_type": "markdown",
   "metadata": {},
   "source": [
    "## Ejercicio 2: Convierte cadenas en números y usa valores absolutos"
   ]
  },
  {
   "cell_type": "markdown",
   "metadata": {},
   "source": [
    "Leyendo los valores:"
   ]
  },
  {
   "cell_type": "code",
   "execution_count": 74,
   "metadata": {},
   "outputs": [],
   "source": [
    "planeta1 = input(\"¿Cual es la distancia del Sol al primer planeta?\")\n",
    "planeta2 = input(\"¿Cual es la distancia del Sol al segundo planeta?\")"
   ]
  },
  {
   "cell_type": "code",
   "execution_count": 75,
   "metadata": {},
   "outputs": [
    {
     "name": "stdout",
     "output_type": "stream",
     "text": [
      "4495100000\n",
      "149600000\n",
      "<class 'str'>\n",
      "<class 'str'>\n"
     ]
    }
   ],
   "source": [
    "print(planeta1)\n",
    "print(planeta2)\n",
    "print(type(planeta1))\n",
    "print(type(planeta2))"
   ]
  },
  {
   "cell_type": "markdown",
   "metadata": {},
   "source": [
    "Como el input nos devuelve cadenas entonces dichas cadenas las convertiremos a enteros:"
   ]
  },
  {
   "cell_type": "code",
   "execution_count": 76,
   "metadata": {},
   "outputs": [],
   "source": [
    "planeta1=int(planeta1)\n",
    "planeta2=int(planeta2)"
   ]
  },
  {
   "cell_type": "code",
   "execution_count": 77,
   "metadata": {},
   "outputs": [
    {
     "name": "stdout",
     "output_type": "stream",
     "text": [
      "4495100000\n",
      "<class 'int'>\n"
     ]
    }
   ],
   "source": [
    "print((planeta1))\n",
    "print(type(planeta1))"
   ]
  },
  {
   "cell_type": "code",
   "execution_count": 78,
   "metadata": {},
   "outputs": [
    {
     "name": "stdout",
     "output_type": "stream",
     "text": [
      "149600000\n",
      "<class 'int'>\n"
     ]
    }
   ],
   "source": [
    "print(int(planeta2))\n",
    "print(type(int(planeta2)))"
   ]
  },
  {
   "cell_type": "markdown",
   "metadata": {},
   "source": [
    "Realizar calculo de la distancia y lo convertimos a valor absoluto:"
   ]
  },
  {
   "cell_type": "code",
   "execution_count": 79,
   "metadata": {},
   "outputs": [
    {
     "name": "stdout",
     "output_type": "stream",
     "text": [
      "4345500000\n",
      "La distancia entre ambos planetas es de: 4345500000 Kms.\n"
     ]
    }
   ],
   "source": [
    "Distancia2 = planeta1 - planeta2\n",
    "Distancia2 = abs(Distancia2)\n",
    "print(Distancia2)\n",
    "print(\"La distancia entre ambos planetas es de: \" + str(Distancia2) + \" Kms.\")"
   ]
  },
  {
   "cell_type": "markdown",
   "metadata": {},
   "source": [
    "En millas:"
   ]
  },
  {
   "cell_type": "code",
   "execution_count": 80,
   "metadata": {},
   "outputs": [
    {
     "name": "stdout",
     "output_type": "stream",
     "text": [
      "2698555500.0\n",
      "La distancia entre ambos planetas es de: 2698555500.0 millas.\n"
     ]
    }
   ],
   "source": [
    "Distancia2 = planeta1 - planeta2\n",
    "Distancia2 = abs(Distancia2)*0.621\n",
    "print(Distancia2)\n",
    "print(\"La distancia entre ambos planetas es de: \" + str(Distancia2) + \" millas.\")"
   ]
  },
  {
   "cell_type": "markdown",
   "metadata": {},
   "source": [
    "Diego Peñaloza Juárez"
   ]
  }
 ],
 "metadata": {
  "interpreter": {
   "hash": "4958bce205b6b0f79ce39664f74134a805df1491c6fab3de6549ca90b5cb7595"
  },
  "kernelspec": {
   "display_name": "Python 3.10.2 64-bit",
   "language": "python",
   "name": "python3"
  },
  "language_info": {
   "codemirror_mode": {
    "name": "ipython",
    "version": 3
   },
   "file_extension": ".py",
   "mimetype": "text/x-python",
   "name": "python",
   "nbconvert_exporter": "python",
   "pygments_lexer": "ipython3",
   "version": "3.10.2"
  },
  "orig_nbformat": 4
 },
 "nbformat": 4,
 "nbformat_minor": 2
}
