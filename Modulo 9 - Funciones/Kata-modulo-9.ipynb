{
 "cells": [
  {
   "cell_type": "markdown",
   "metadata": {},
   "source": [
    "## Ejercicio 1: Trabajar con argumentos en funciones"
   ]
  },
  {
   "cell_type": "markdown",
   "metadata": {},
   "source": [
    "Creando funcion para leer tres mediciones de combustible y devuelva el informe:"
   ]
  },
  {
   "cell_type": "code",
   "execution_count": 132,
   "metadata": {},
   "outputs": [],
   "source": [
    "def reporte(tanque1, tanque2, tanque3):\n",
    "    promedio = (tanque1 + tanque2 + tanque3) / 3\n",
    "    return f\"\"\"Reporte:\n",
    "    Promedio: {promedio}%\n",
    "    Tanque 1: {tanque1}%\n",
    "    Tanque 2: {tanque2}%\n",
    "    Tanque 3: {tanque3}% \n",
    "    \"\"\""
   ]
  },
  {
   "cell_type": "markdown",
   "metadata": {},
   "source": [
    "Llamamos a la función y la evaluamos cuando los 3 tanques estan vacios:"
   ]
  },
  {
   "cell_type": "code",
   "execution_count": 133,
   "metadata": {},
   "outputs": [
    {
     "name": "stdout",
     "output_type": "stream",
     "text": [
      "Reporte:\n",
      "    Promedio: 0.0%\n",
      "    Tanque 1: 0%\n",
      "    Tanque 2: 0%\n",
      "    Tanque 3: 0% \n",
      "    \n"
     ]
    }
   ],
   "source": [
    "print(reporte(0,0,0))"
   ]
  },
  {
   "cell_type": "markdown",
   "metadata": {},
   "source": [
    "Creando nueva función que calcule el promedio de manera independiente:"
   ]
  },
  {
   "cell_type": "code",
   "execution_count": 134,
   "metadata": {},
   "outputs": [
    {
     "name": "stdout",
     "output_type": "stream",
     "text": [
      "Promedio:  20.0\n"
     ]
    }
   ],
   "source": [
    "def promedio(values):\n",
    "    combustible = sum(values)\n",
    "    tanques = len(values)\n",
    "    return combustible/tanques\n",
    "\n",
    "print(\"Promedio: \",promedio([0,20,40]))"
   ]
  },
  {
   "cell_type": "markdown",
   "metadata": {},
   "source": [
    "Actualizamos la funcion reporte agregando en ella la función promedio:"
   ]
  },
  {
   "cell_type": "code",
   "execution_count": 135,
   "metadata": {},
   "outputs": [],
   "source": [
    "\n",
    "def reporte(tanque1, tanque2, tanque3):\n",
    "    return f\"\"\"Reporte:\n",
    "    Promedio: {promedio([tanque1,tanque2,tanque3])}%\n",
    "    Tanque 1: {tanque1}%\n",
    "    Tanque 2: {tanque2}%\n",
    "    Tanque 3: {tanque3}% \n",
    "    \"\"\""
   ]
  },
  {
   "cell_type": "markdown",
   "metadata": {},
   "source": [
    "Llamamos a la función actualizada y la evaluamos asignando diferentes valores a los 3 tanques:"
   ]
  },
  {
   "cell_type": "code",
   "execution_count": 136,
   "metadata": {},
   "outputs": [
    {
     "name": "stdout",
     "output_type": "stream",
     "text": [
      "Reporte:\n",
      "    Promedio: 56.666666666666664%\n",
      "    Tanque 1: 70%\n",
      "    Tanque 2: 87%\n",
      "    Tanque 3: 13% \n",
      "    \n"
     ]
    }
   ],
   "source": [
    "print(reporte(70,87,13))"
   ]
  },
  {
   "cell_type": "markdown",
   "metadata": {},
   "source": [
    "## Ejercicio 2: Trabajo con argumentos de palabra clave"
   ]
  },
  {
   "cell_type": "markdown",
   "metadata": {},
   "source": [
    "Creando función con informe de la misión indicando los datos importantes o a considerar:"
   ]
  },
  {
   "cell_type": "code",
   "execution_count": 137,
   "metadata": {},
   "outputs": [
    {
     "name": "stdout",
     "output_type": "stream",
     "text": [
      "\n",
      "    Mision al planeta Jupiter\n",
      "    Duración total del viaje: 65 minutos\n",
      "    Total de Combustible Disponible: 500000 galones\n",
      "    \n"
     ]
    }
   ],
   "source": [
    "def informe(tiempo_prelanzamiento, tiempo_vuelo, destino, tanque_externo, tanque_principal):\n",
    "    return f\"\"\"\n",
    "    Mision al planeta {destino}\n",
    "    Duración total del viaje: {tiempo_prelanzamiento + tiempo_vuelo} minutos\n",
    "    Total de Combustible Disponible: {tanque_externo + tanque_principal} galones\n",
    "    \"\"\"\n",
    "\n",
    "print(informe(14, 51, \"Jupiter\", 200000, 300000))"
   ]
  },
  {
   "cell_type": "markdown",
   "metadata": {},
   "source": [
    "Creando nueva funcion con argumentos para quitar limitaciones de tiempo y de tanques de combustible:"
   ]
  },
  {
   "cell_type": "code",
   "execution_count": 138,
   "metadata": {},
   "outputs": [
    {
     "name": "stdout",
     "output_type": "stream",
     "text": [
      "\n",
      "    Mision al planeta Krypton\n",
      "    Duración total del viaje: 578 minutos\n",
      "    Total de Combustible Disponible: 500000\n",
      "    \n"
     ]
    }
   ],
   "source": [
    "def informe(destino, *minutos, **combustible):\n",
    "    return f\"\"\"\n",
    "    Mision al planeta {destino}\n",
    "    Duración total del viaje: {sum(minutos)} minutos\n",
    "    Total de Combustible Disponible: {sum(combustible.values())}\n",
    "    \"\"\"\n",
    "\n",
    "print(informe(\"Krypton\", 10, 50, 518, principal=300000, externo=200000))"
   ]
  },
  {
   "cell_type": "markdown",
   "metadata": {},
   "source": [
    "Actualizar la función para mostar en el informe el detalle de cada tanque:"
   ]
  },
  {
   "cell_type": "code",
   "execution_count": 139,
   "metadata": {},
   "outputs": [
    {
     "name": "stdout",
     "output_type": "stream",
     "text": [
      "\n",
      "    Mission al planeta Krypton\n",
      "    Duración total del viaje: 245 minutos\n",
      "    Total de Combustible Disponible: 320000 galones\n",
      "    Tanque principal-->300000 galones disponibles\n",
      "Tanque externo-->20000 galones disponibles\n",
      "\n"
     ]
    }
   ],
   "source": [
    "def informe(destino, *minutos, **combustible):\n",
    "    Reporte_mision = f\"\"\"\n",
    "    Mission al planeta {destino}\n",
    "    Duración total del viaje: {sum(minutos)} minutos\n",
    "    Total de Combustible Disponible: {sum(combustible.values())} galones\n",
    "    \"\"\"\n",
    "    for nombre_tanque, galones in combustible.items():\n",
    "        Reporte_mision += f\"Tanque {nombre_tanque}-->{galones} galones disponibles\\n\"\n",
    "    return Reporte_mision\n",
    "\n",
    "print(informe(\"Krypton\", 15, 30, 200, principal=300000, externo=20000))"
   ]
  },
  {
   "cell_type": "markdown",
   "metadata": {},
   "source": [
    "Diego Peñaloza Juárez"
   ]
  }
 ],
 "metadata": {
  "interpreter": {
   "hash": "4958bce205b6b0f79ce39664f74134a805df1491c6fab3de6549ca90b5cb7595"
  },
  "kernelspec": {
   "display_name": "Python 3.10.2 64-bit",
   "language": "python",
   "name": "python3"
  },
  "language_info": {
   "codemirror_mode": {
    "name": "ipython",
    "version": 3
   },
   "file_extension": ".py",
   "mimetype": "text/x-python",
   "name": "python",
   "nbconvert_exporter": "python",
   "pygments_lexer": "ipython3",
   "version": "3.10.2"
  },
  "orig_nbformat": 4
 },
 "nbformat": 4,
 "nbformat_minor": 2
}
